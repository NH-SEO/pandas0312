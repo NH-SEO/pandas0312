{
 "cells": [
  {
   "cell_type": "code",
   "execution_count": 1,
   "id": "90cdea67",
   "metadata": {},
   "outputs": [],
   "source": [
    "import warnings\n",
    "warnings.filterwarnings('ignore')\n",
    "\n",
    "import pandas as pd\n",
    "import numpy as np"
   ]
  },
  {
   "cell_type": "markdown",
   "id": "03e4ae41",
   "metadata": {},
   "source": [
    "# TEST3"
   ]
  },
  {
   "cell_type": "code",
   "execution_count": 5,
   "id": "7f46096f",
   "metadata": {},
   "outputs": [],
   "source": [
    "df = pd.read_csv('dataset/tweets2.csv', index_col='No')"
   ]
  },
  {
   "cell_type": "code",
   "execution_count": 10,
   "id": "0666aafe",
   "metadata": {},
   "outputs": [],
   "source": [
    "df['totalSum'] = df.iloc[:, 3:].apply(lambda x: x.sum(), axis=1)"
   ]
  },
  {
   "cell_type": "markdown",
   "id": "a8636e12",
   "metadata": {},
   "source": [
    "# Q1\n",
    "# 위의 전처리한 데이터를 이용하여 리-트윗 횟수(retweets)가 0이 아닌 트윗을 대상으로\n",
    "# 실시간 중계 여부(atConference)에 따른 좋아요(‘likes’) 클릭 수에 평균을 출력하세요."
   ]
  },
  {
   "cell_type": "code",
   "execution_count": 16,
   "id": "cde2ef2d",
   "metadata": {},
   "outputs": [
    {
     "data": {
      "text/plain": [
       "atConference\n",
       "False    15.862069\n",
       "True      2.269231\n",
       "Name: likes, dtype: float64"
      ]
     },
     "execution_count": 16,
     "metadata": {},
     "output_type": "execute_result"
    }
   ],
   "source": [
    "df[df['retweets'] != 0].groupby('atConference')['likes'].mean()"
   ]
  },
  {
   "cell_type": "code",
   "execution_count": null,
   "id": "6dfe38a9",
   "metadata": {},
   "outputs": [],
   "source": []
  },
  {
   "cell_type": "markdown",
   "id": "4a7a1097",
   "metadata": {},
   "source": [
    "# TEST4"
   ]
  },
  {
   "cell_type": "code",
   "execution_count": 17,
   "id": "da60156f",
   "metadata": {},
   "outputs": [
    {
     "data": {
      "text/html": [
       "<div>\n",
       "<style scoped>\n",
       "    .dataframe tbody tr th:only-of-type {\n",
       "        vertical-align: middle;\n",
       "    }\n",
       "\n",
       "    .dataframe tbody tr th {\n",
       "        vertical-align: top;\n",
       "    }\n",
       "\n",
       "    .dataframe thead th {\n",
       "        text-align: right;\n",
       "    }\n",
       "</style>\n",
       "<table border=\"1\" class=\"dataframe\">\n",
       "  <thead>\n",
       "    <tr style=\"text-align: right;\">\n",
       "      <th></th>\n",
       "      <th>NO</th>\n",
       "      <th>Agency</th>\n",
       "      <th>AgencyType</th>\n",
       "      <th>DistributionChannel</th>\n",
       "      <th>ProductName</th>\n",
       "      <th>Claim</th>\n",
       "      <th>Duration</th>\n",
       "      <th>Destination</th>\n",
       "      <th>NetSales</th>\n",
       "      <th>Commision</th>\n",
       "      <th>Gender</th>\n",
       "      <th>Age</th>\n",
       "    </tr>\n",
       "  </thead>\n",
       "  <tbody>\n",
       "    <tr>\n",
       "      <td>0</td>\n",
       "      <td>1</td>\n",
       "      <td>CBH</td>\n",
       "      <td>Travel Agency</td>\n",
       "      <td>Offline</td>\n",
       "      <td>Comprehensive Plan</td>\n",
       "      <td>No</td>\n",
       "      <td>186</td>\n",
       "      <td>MALAYSIA</td>\n",
       "      <td>-29.0</td>\n",
       "      <td>9.57</td>\n",
       "      <td>F</td>\n",
       "      <td>81</td>\n",
       "    </tr>\n",
       "    <tr>\n",
       "      <td>1</td>\n",
       "      <td>2</td>\n",
       "      <td>CBH</td>\n",
       "      <td>Travel Agency</td>\n",
       "      <td>Offline</td>\n",
       "      <td>Comprehensive Plan</td>\n",
       "      <td>No</td>\n",
       "      <td>186</td>\n",
       "      <td>MALAYSIA</td>\n",
       "      <td>-29.0</td>\n",
       "      <td>9.57</td>\n",
       "      <td>F</td>\n",
       "      <td>71</td>\n",
       "    </tr>\n",
       "    <tr>\n",
       "      <td>2</td>\n",
       "      <td>3</td>\n",
       "      <td>CWT</td>\n",
       "      <td>Travel Agency</td>\n",
       "      <td>Online</td>\n",
       "      <td>Rental Vehicle Excess Insurance</td>\n",
       "      <td>No</td>\n",
       "      <td>65</td>\n",
       "      <td>AUSTRALIA</td>\n",
       "      <td>-49.5</td>\n",
       "      <td>29.70</td>\n",
       "      <td>NaN</td>\n",
       "      <td>32</td>\n",
       "    </tr>\n",
       "    <tr>\n",
       "      <td>3</td>\n",
       "      <td>4</td>\n",
       "      <td>CWT</td>\n",
       "      <td>Travel Agency</td>\n",
       "      <td>Online</td>\n",
       "      <td>Rental Vehicle Excess Insurance</td>\n",
       "      <td>No</td>\n",
       "      <td>60</td>\n",
       "      <td>AUSTRALIA</td>\n",
       "      <td>-39.6</td>\n",
       "      <td>23.76</td>\n",
       "      <td>NaN</td>\n",
       "      <td>32</td>\n",
       "    </tr>\n",
       "    <tr>\n",
       "      <td>4</td>\n",
       "      <td>5</td>\n",
       "      <td>CWT</td>\n",
       "      <td>Travel Agency</td>\n",
       "      <td>Online</td>\n",
       "      <td>Rental Vehicle Excess Insurance</td>\n",
       "      <td>No</td>\n",
       "      <td>79</td>\n",
       "      <td>ITALY</td>\n",
       "      <td>-19.8</td>\n",
       "      <td>11.88</td>\n",
       "      <td>NaN</td>\n",
       "      <td>41</td>\n",
       "    </tr>\n",
       "  </tbody>\n",
       "</table>\n",
       "</div>"
      ],
      "text/plain": [
       "   NO Agency     AgencyType DistributionChannel  \\\n",
       "0   1    CBH  Travel Agency             Offline   \n",
       "1   2    CBH  Travel Agency             Offline   \n",
       "2   3    CWT  Travel Agency              Online   \n",
       "3   4    CWT  Travel Agency              Online   \n",
       "4   5    CWT  Travel Agency              Online   \n",
       "\n",
       "                       ProductName Claim  Duration Destination  NetSales  \\\n",
       "0               Comprehensive Plan    No       186    MALAYSIA     -29.0   \n",
       "1               Comprehensive Plan    No       186    MALAYSIA     -29.0   \n",
       "2  Rental Vehicle Excess Insurance    No        65   AUSTRALIA     -49.5   \n",
       "3  Rental Vehicle Excess Insurance    No        60   AUSTRALIA     -39.6   \n",
       "4  Rental Vehicle Excess Insurance    No        79       ITALY     -19.8   \n",
       "\n",
       "   Commision Gender  Age  \n",
       "0       9.57      F   81  \n",
       "1       9.57      F   71  \n",
       "2      29.70    NaN   32  \n",
       "3      23.76    NaN   32  \n",
       "4      11.88    NaN   41  "
      ]
     },
     "execution_count": 17,
     "metadata": {},
     "output_type": "execute_result"
    }
   ],
   "source": [
    "df = pd.read_csv('dataset/travel_insurance2.csv')\n",
    "df.head()"
   ]
  },
  {
   "cell_type": "code",
   "execution_count": 19,
   "id": "e1a40c74",
   "metadata": {},
   "outputs": [
    {
     "data": {
      "text/plain": [
       "(63326, 12)"
      ]
     },
     "execution_count": 19,
     "metadata": {},
     "output_type": "execute_result"
    }
   ],
   "source": [
    "df = df.replace({'Null': np.nan, 'N/A': np.nan, '': np.nan})\n",
    "df.shape"
   ]
  },
  {
   "cell_type": "markdown",
   "id": "178b4522",
   "metadata": {},
   "source": [
    "# 1-1."
   ]
  },
  {
   "cell_type": "code",
   "execution_count": 20,
   "id": "3171b4ee",
   "metadata": {},
   "outputs": [],
   "source": [
    "df = df.drop(columns=['ProductName', 'NetSales'])"
   ]
  },
  {
   "cell_type": "markdown",
   "id": "5c10e518",
   "metadata": {},
   "source": [
    "# 1-2."
   ]
  },
  {
   "cell_type": "code",
   "execution_count": 21,
   "id": "6af33364",
   "metadata": {},
   "outputs": [
    {
     "data": {
      "text/plain": [
       "45107"
      ]
     },
     "execution_count": 21,
     "metadata": {},
     "output_type": "execute_result"
    }
   ],
   "source": [
    "df['Gender'].isna().sum()"
   ]
  },
  {
   "cell_type": "code",
   "execution_count": 22,
   "id": "ad4112b7",
   "metadata": {},
   "outputs": [],
   "source": [
    "df.loc[(df['Gender'].isna()) & (df['NO'] % 2 == 0), 'Gender'] = 'M'\n",
    "df.loc[(df['Gender'].isna()) & (df['NO'] % 2 != 0), 'Gender'] = 'F'"
   ]
  },
  {
   "cell_type": "code",
   "execution_count": 24,
   "id": "1e7d404c",
   "metadata": {
    "scrolled": true
   },
   "outputs": [
    {
     "data": {
      "text/plain": [
       "0"
      ]
     },
     "execution_count": 24,
     "metadata": {},
     "output_type": "execute_result"
    }
   ],
   "source": [
    "df['Gender'].isna().sum()"
   ]
  },
  {
   "cell_type": "code",
   "execution_count": 25,
   "id": "da2c0c9a",
   "metadata": {},
   "outputs": [],
   "source": [
    "basetable1 = df.copy()"
   ]
  },
  {
   "cell_type": "markdown",
   "id": "15e1d8b8",
   "metadata": {},
   "source": [
    "# Q1."
   ]
  },
  {
   "cell_type": "code",
   "execution_count": 28,
   "id": "33c7d9a2",
   "metadata": {},
   "outputs": [
    {
     "data": {
      "text/plain": [
       "'MALAYSIA'"
      ]
     },
     "execution_count": 28,
     "metadata": {},
     "output_type": "execute_result"
    }
   ],
   "source": [
    "basetable1[(basetable1['Age'] >= 40) & (basetable1['Age'] < 50 ) & (basetable1['Gender'] == 'F')]\\\n",
    "    ['Destination'].value_counts().index[1]"
   ]
  },
  {
   "cell_type": "markdown",
   "id": "45afb206",
   "metadata": {},
   "source": [
    "# Test5"
   ]
  },
  {
   "cell_type": "code",
   "execution_count": 33,
   "id": "bc49c65f",
   "metadata": {},
   "outputs": [
    {
     "data": {
      "text/html": [
       "<div>\n",
       "<style scoped>\n",
       "    .dataframe tbody tr th:only-of-type {\n",
       "        vertical-align: middle;\n",
       "    }\n",
       "\n",
       "    .dataframe tbody tr th {\n",
       "        vertical-align: top;\n",
       "    }\n",
       "\n",
       "    .dataframe thead th {\n",
       "        text-align: right;\n",
       "    }\n",
       "</style>\n",
       "<table border=\"1\" class=\"dataframe\">\n",
       "  <thead>\n",
       "    <tr style=\"text-align: right;\">\n",
       "      <th></th>\n",
       "      <th>ID</th>\n",
       "      <th>join_date</th>\n",
       "      <th>sex</th>\n",
       "      <th>birth_year</th>\n",
       "      <th>branch_code</th>\n",
       "      <th>P1</th>\n",
       "      <th>P2</th>\n",
       "      <th>P3</th>\n",
       "      <th>P4</th>\n",
       "      <th>P5</th>\n",
       "      <th>...</th>\n",
       "      <th>P12</th>\n",
       "      <th>P13</th>\n",
       "      <th>P14</th>\n",
       "      <th>P15</th>\n",
       "      <th>P16</th>\n",
       "      <th>P17</th>\n",
       "      <th>P18</th>\n",
       "      <th>P19</th>\n",
       "      <th>P20</th>\n",
       "      <th>P21</th>\n",
       "    </tr>\n",
       "  </thead>\n",
       "  <tbody>\n",
       "    <tr>\n",
       "      <td>0</td>\n",
       "      <td>4WKQSBB</td>\n",
       "      <td>1/2/2019</td>\n",
       "      <td>F</td>\n",
       "      <td>1987</td>\n",
       "      <td>1X1H</td>\n",
       "      <td>0</td>\n",
       "      <td>0</td>\n",
       "      <td>0</td>\n",
       "      <td>0</td>\n",
       "      <td>0</td>\n",
       "      <td>...</td>\n",
       "      <td>0</td>\n",
       "      <td>0</td>\n",
       "      <td>0</td>\n",
       "      <td>1</td>\n",
       "      <td>0</td>\n",
       "      <td>0</td>\n",
       "      <td>0</td>\n",
       "      <td>0</td>\n",
       "      <td>0</td>\n",
       "      <td>0</td>\n",
       "    </tr>\n",
       "    <tr>\n",
       "      <td>1</td>\n",
       "      <td>CP5S02H</td>\n",
       "      <td>1/6/2019</td>\n",
       "      <td>F</td>\n",
       "      <td>1981</td>\n",
       "      <td>UAOD</td>\n",
       "      <td>0</td>\n",
       "      <td>0</td>\n",
       "      <td>0</td>\n",
       "      <td>0</td>\n",
       "      <td>0</td>\n",
       "      <td>...</td>\n",
       "      <td>0</td>\n",
       "      <td>0</td>\n",
       "      <td>0</td>\n",
       "      <td>1</td>\n",
       "      <td>0</td>\n",
       "      <td>0</td>\n",
       "      <td>0</td>\n",
       "      <td>0</td>\n",
       "      <td>0</td>\n",
       "      <td>0</td>\n",
       "    </tr>\n",
       "  </tbody>\n",
       "</table>\n",
       "<p>2 rows × 26 columns</p>\n",
       "</div>"
      ],
      "text/plain": [
       "        ID join_date sex  birth_year branch_code  P1  P2  P3  P4  P5  ...  \\\n",
       "0  4WKQSBB  1/2/2019   F        1987        1X1H   0   0   0   0   0  ...   \n",
       "1  CP5S02H  1/6/2019   F        1981        UAOD   0   0   0   0   0  ...   \n",
       "\n",
       "   P12  P13  P14  P15  P16  P17  P18  P19  P20  P21  \n",
       "0    0    0    0    1    0    0    0    0    0    0  \n",
       "1    0    0    0    1    0    0    0    0    0    0  \n",
       "\n",
       "[2 rows x 26 columns]"
      ]
     },
     "execution_count": 33,
     "metadata": {},
     "output_type": "execute_result"
    }
   ],
   "source": [
    "df = pd.read_csv('dataset/Train_data.csv')\n",
    "df.head(2)"
   ]
  },
  {
   "cell_type": "markdown",
   "id": "01645e3d",
   "metadata": {},
   "source": [
    "## 1-1"
   ]
  },
  {
   "cell_type": "code",
   "execution_count": 36,
   "id": "c99cd762",
   "metadata": {},
   "outputs": [],
   "source": [
    "df = df.dropna(subset=['join_date'])"
   ]
  },
  {
   "cell_type": "code",
   "execution_count": 39,
   "id": "fe68cfff",
   "metadata": {},
   "outputs": [],
   "source": [
    "df['reg_age'] = df['join_date'].str[-4:].astype(int) - df['birth_year'] + 1\n",
    "# pd.to_datetime(df['join_date'], format='%d/%m/%Y').dt.year - df['birth_year'] + 1"
   ]
  },
  {
   "cell_type": "code",
   "execution_count": 41,
   "id": "4ad2db7a",
   "metadata": {
    "scrolled": true
   },
   "outputs": [
    {
     "data": {
      "text/html": [
       "<div>\n",
       "<style scoped>\n",
       "    .dataframe tbody tr th:only-of-type {\n",
       "        vertical-align: middle;\n",
       "    }\n",
       "\n",
       "    .dataframe tbody tr th {\n",
       "        vertical-align: top;\n",
       "    }\n",
       "\n",
       "    .dataframe thead th {\n",
       "        text-align: right;\n",
       "    }\n",
       "</style>\n",
       "<table border=\"1\" class=\"dataframe\">\n",
       "  <thead>\n",
       "    <tr style=\"text-align: right;\">\n",
       "      <th></th>\n",
       "      <th>ID</th>\n",
       "      <th>join_date</th>\n",
       "      <th>sex</th>\n",
       "      <th>birth_year</th>\n",
       "      <th>branch_code</th>\n",
       "      <th>P1</th>\n",
       "      <th>P2</th>\n",
       "      <th>P3</th>\n",
       "      <th>P4</th>\n",
       "      <th>P5</th>\n",
       "      <th>...</th>\n",
       "      <th>P13</th>\n",
       "      <th>P14</th>\n",
       "      <th>P15</th>\n",
       "      <th>P16</th>\n",
       "      <th>P17</th>\n",
       "      <th>P18</th>\n",
       "      <th>P19</th>\n",
       "      <th>P20</th>\n",
       "      <th>P21</th>\n",
       "      <th>reg_age</th>\n",
       "    </tr>\n",
       "  </thead>\n",
       "  <tbody>\n",
       "    <tr>\n",
       "      <td>0</td>\n",
       "      <td>4WKQSBB</td>\n",
       "      <td>1/2/2019</td>\n",
       "      <td>F</td>\n",
       "      <td>1987</td>\n",
       "      <td>1X1H</td>\n",
       "      <td>0</td>\n",
       "      <td>0</td>\n",
       "      <td>0</td>\n",
       "      <td>0</td>\n",
       "      <td>0</td>\n",
       "      <td>...</td>\n",
       "      <td>0</td>\n",
       "      <td>0</td>\n",
       "      <td>1</td>\n",
       "      <td>0</td>\n",
       "      <td>0</td>\n",
       "      <td>0</td>\n",
       "      <td>0</td>\n",
       "      <td>0</td>\n",
       "      <td>0</td>\n",
       "      <td>33</td>\n",
       "    </tr>\n",
       "    <tr>\n",
       "      <td>1</td>\n",
       "      <td>CP5S02H</td>\n",
       "      <td>1/6/2019</td>\n",
       "      <td>F</td>\n",
       "      <td>1981</td>\n",
       "      <td>UAOD</td>\n",
       "      <td>0</td>\n",
       "      <td>0</td>\n",
       "      <td>0</td>\n",
       "      <td>0</td>\n",
       "      <td>0</td>\n",
       "      <td>...</td>\n",
       "      <td>0</td>\n",
       "      <td>0</td>\n",
       "      <td>1</td>\n",
       "      <td>0</td>\n",
       "      <td>0</td>\n",
       "      <td>0</td>\n",
       "      <td>0</td>\n",
       "      <td>0</td>\n",
       "      <td>0</td>\n",
       "      <td>39</td>\n",
       "    </tr>\n",
       "  </tbody>\n",
       "</table>\n",
       "<p>2 rows × 27 columns</p>\n",
       "</div>"
      ],
      "text/plain": [
       "        ID join_date sex  birth_year branch_code  P1  P2  P3  P4  P5  ...  \\\n",
       "0  4WKQSBB  1/2/2019   F        1987        1X1H   0   0   0   0   0  ...   \n",
       "1  CP5S02H  1/6/2019   F        1981        UAOD   0   0   0   0   0  ...   \n",
       "\n",
       "   P13  P14  P15  P16  P17  P18  P19  P20  P21  reg_age  \n",
       "0    0    0    1    0    0    0    0    0    0       33  \n",
       "1    0    0    1    0    0    0    0    0    0       39  \n",
       "\n",
       "[2 rows x 27 columns]"
      ]
     },
     "execution_count": 41,
     "metadata": {},
     "output_type": "execute_result"
    }
   ],
   "source": [
    "df.head(2)"
   ]
  },
  {
   "cell_type": "markdown",
   "id": "9d635776",
   "metadata": {},
   "source": [
    "## 1-2"
   ]
  },
  {
   "cell_type": "code",
   "execution_count": 54,
   "id": "e04edc51",
   "metadata": {},
   "outputs": [],
   "source": [
    "df['VIP'] = np.where(df.filter(regex='^P').sum(axis=1) >= 4, 'VIP', 'Not VIP')"
   ]
  },
  {
   "cell_type": "code",
   "execution_count": 55,
   "id": "e4b03922",
   "metadata": {},
   "outputs": [
    {
     "data": {
      "text/html": [
       "<div>\n",
       "<style scoped>\n",
       "    .dataframe tbody tr th:only-of-type {\n",
       "        vertical-align: middle;\n",
       "    }\n",
       "\n",
       "    .dataframe tbody tr th {\n",
       "        vertical-align: top;\n",
       "    }\n",
       "\n",
       "    .dataframe thead th {\n",
       "        text-align: right;\n",
       "    }\n",
       "</style>\n",
       "<table border=\"1\" class=\"dataframe\">\n",
       "  <thead>\n",
       "    <tr style=\"text-align: right;\">\n",
       "      <th></th>\n",
       "      <th>ID</th>\n",
       "      <th>join_date</th>\n",
       "      <th>sex</th>\n",
       "      <th>birth_year</th>\n",
       "      <th>branch_code</th>\n",
       "      <th>P1</th>\n",
       "      <th>P2</th>\n",
       "      <th>P3</th>\n",
       "      <th>P4</th>\n",
       "      <th>P5</th>\n",
       "      <th>...</th>\n",
       "      <th>P14</th>\n",
       "      <th>P15</th>\n",
       "      <th>P16</th>\n",
       "      <th>P17</th>\n",
       "      <th>P18</th>\n",
       "      <th>P19</th>\n",
       "      <th>P20</th>\n",
       "      <th>P21</th>\n",
       "      <th>reg_age</th>\n",
       "      <th>VIP</th>\n",
       "    </tr>\n",
       "  </thead>\n",
       "  <tbody>\n",
       "    <tr>\n",
       "      <td>0</td>\n",
       "      <td>4WKQSBB</td>\n",
       "      <td>1/2/2019</td>\n",
       "      <td>F</td>\n",
       "      <td>1987</td>\n",
       "      <td>1X1H</td>\n",
       "      <td>0</td>\n",
       "      <td>0</td>\n",
       "      <td>0</td>\n",
       "      <td>0</td>\n",
       "      <td>0</td>\n",
       "      <td>...</td>\n",
       "      <td>0</td>\n",
       "      <td>1</td>\n",
       "      <td>0</td>\n",
       "      <td>0</td>\n",
       "      <td>0</td>\n",
       "      <td>0</td>\n",
       "      <td>0</td>\n",
       "      <td>0</td>\n",
       "      <td>33</td>\n",
       "      <td>Not VIP</td>\n",
       "    </tr>\n",
       "    <tr>\n",
       "      <td>1</td>\n",
       "      <td>CP5S02H</td>\n",
       "      <td>1/6/2019</td>\n",
       "      <td>F</td>\n",
       "      <td>1981</td>\n",
       "      <td>UAOD</td>\n",
       "      <td>0</td>\n",
       "      <td>0</td>\n",
       "      <td>0</td>\n",
       "      <td>0</td>\n",
       "      <td>0</td>\n",
       "      <td>...</td>\n",
       "      <td>0</td>\n",
       "      <td>1</td>\n",
       "      <td>0</td>\n",
       "      <td>0</td>\n",
       "      <td>0</td>\n",
       "      <td>0</td>\n",
       "      <td>0</td>\n",
       "      <td>0</td>\n",
       "      <td>39</td>\n",
       "      <td>Not VIP</td>\n",
       "    </tr>\n",
       "  </tbody>\n",
       "</table>\n",
       "<p>2 rows × 28 columns</p>\n",
       "</div>"
      ],
      "text/plain": [
       "        ID join_date sex  birth_year branch_code  P1  P2  P3  P4  P5  ...  \\\n",
       "0  4WKQSBB  1/2/2019   F        1987        1X1H   0   0   0   0   0  ...   \n",
       "1  CP5S02H  1/6/2019   F        1981        UAOD   0   0   0   0   0  ...   \n",
       "\n",
       "   P14  P15  P16  P17  P18  P19  P20  P21  reg_age      VIP  \n",
       "0    0    1    0    0    0    0    0    0       33  Not VIP  \n",
       "1    0    1    0    0    0    0    0    0       39  Not VIP  \n",
       "\n",
       "[2 rows x 28 columns]"
      ]
     },
     "execution_count": 55,
     "metadata": {},
     "output_type": "execute_result"
    }
   ],
   "source": [
    "df.head(2)"
   ]
  },
  {
   "cell_type": "code",
   "execution_count": 56,
   "id": "11c4be4f",
   "metadata": {
    "scrolled": true
   },
   "outputs": [
    {
     "data": {
      "text/plain": [
       "(29130, 28)"
      ]
     },
     "execution_count": 56,
     "metadata": {},
     "output_type": "execute_result"
    }
   ],
   "source": [
    "df.shape"
   ]
  },
  {
   "cell_type": "markdown",
   "id": "089c3ce6",
   "metadata": {},
   "source": [
    "# Q1."
   ]
  },
  {
   "cell_type": "markdown",
   "id": "3957a5e1",
   "metadata": {},
   "source": [
    "### 가장 큰 사무소"
   ]
  },
  {
   "cell_type": "code",
   "execution_count": 58,
   "id": "8e9966c1",
   "metadata": {
    "scrolled": true
   },
   "outputs": [
    {
     "data": {
      "text/plain": [
       "'49BM'"
      ]
     },
     "execution_count": 58,
     "metadata": {},
     "output_type": "execute_result"
    }
   ],
   "source": [
    "df.groupby('branch_code')['reg_age'].mean().idxmax()"
   ]
  },
  {
   "cell_type": "markdown",
   "id": "5573512f",
   "metadata": {},
   "source": [
    "### 세번째로 큰 사무소"
   ]
  },
  {
   "cell_type": "code",
   "execution_count": 61,
   "id": "a7e05ddf",
   "metadata": {},
   "outputs": [
    {
     "data": {
      "text/plain": [
       "'EU3L'"
      ]
     },
     "execution_count": 61,
     "metadata": {},
     "output_type": "execute_result"
    }
   ],
   "source": [
    "df.groupby('branch_code')['reg_age'].mean().sort_values(ascending=False).index[2]"
   ]
  },
  {
   "cell_type": "markdown",
   "id": "cbdacdef",
   "metadata": {},
   "source": [
    "# Q2."
   ]
  },
  {
   "cell_type": "code",
   "execution_count": 62,
   "id": "1bb802ca",
   "metadata": {},
   "outputs": [],
   "source": [
    "df['total'] = df.filter(regex='^P').sum(axis=1)"
   ]
  },
  {
   "cell_type": "code",
   "execution_count": 64,
   "id": "5e8d64b6",
   "metadata": {},
   "outputs": [
    {
     "data": {
      "text/html": [
       "<div>\n",
       "<style scoped>\n",
       "    .dataframe tbody tr th:only-of-type {\n",
       "        vertical-align: middle;\n",
       "    }\n",
       "\n",
       "    .dataframe tbody tr th {\n",
       "        vertical-align: top;\n",
       "    }\n",
       "\n",
       "    .dataframe thead th {\n",
       "        text-align: right;\n",
       "    }\n",
       "</style>\n",
       "<table border=\"1\" class=\"dataframe\">\n",
       "  <thead>\n",
       "    <tr style=\"text-align: right;\">\n",
       "      <th></th>\n",
       "      <th>ID</th>\n",
       "      <th>join_date</th>\n",
       "      <th>sex</th>\n",
       "      <th>birth_year</th>\n",
       "      <th>branch_code</th>\n",
       "      <th>P1</th>\n",
       "      <th>P2</th>\n",
       "      <th>P3</th>\n",
       "      <th>P4</th>\n",
       "      <th>P5</th>\n",
       "      <th>...</th>\n",
       "      <th>P15</th>\n",
       "      <th>P16</th>\n",
       "      <th>P17</th>\n",
       "      <th>P18</th>\n",
       "      <th>P19</th>\n",
       "      <th>P20</th>\n",
       "      <th>P21</th>\n",
       "      <th>reg_age</th>\n",
       "      <th>VIP</th>\n",
       "      <th>total</th>\n",
       "    </tr>\n",
       "  </thead>\n",
       "  <tbody>\n",
       "    <tr>\n",
       "      <td>0</td>\n",
       "      <td>4WKQSBB</td>\n",
       "      <td>1/2/2019</td>\n",
       "      <td>F</td>\n",
       "      <td>1987</td>\n",
       "      <td>1X1H</td>\n",
       "      <td>0</td>\n",
       "      <td>0</td>\n",
       "      <td>0</td>\n",
       "      <td>0</td>\n",
       "      <td>0</td>\n",
       "      <td>...</td>\n",
       "      <td>1</td>\n",
       "      <td>0</td>\n",
       "      <td>0</td>\n",
       "      <td>0</td>\n",
       "      <td>0</td>\n",
       "      <td>0</td>\n",
       "      <td>0</td>\n",
       "      <td>33</td>\n",
       "      <td>Not VIP</td>\n",
       "      <td>2</td>\n",
       "    </tr>\n",
       "    <tr>\n",
       "      <td>1</td>\n",
       "      <td>CP5S02H</td>\n",
       "      <td>1/6/2019</td>\n",
       "      <td>F</td>\n",
       "      <td>1981</td>\n",
       "      <td>UAOD</td>\n",
       "      <td>0</td>\n",
       "      <td>0</td>\n",
       "      <td>0</td>\n",
       "      <td>0</td>\n",
       "      <td>0</td>\n",
       "      <td>...</td>\n",
       "      <td>1</td>\n",
       "      <td>0</td>\n",
       "      <td>0</td>\n",
       "      <td>0</td>\n",
       "      <td>0</td>\n",
       "      <td>0</td>\n",
       "      <td>0</td>\n",
       "      <td>39</td>\n",
       "      <td>Not VIP</td>\n",
       "      <td>2</td>\n",
       "    </tr>\n",
       "  </tbody>\n",
       "</table>\n",
       "<p>2 rows × 29 columns</p>\n",
       "</div>"
      ],
      "text/plain": [
       "        ID join_date sex  birth_year branch_code  P1  P2  P3  P4  P5  ...  \\\n",
       "0  4WKQSBB  1/2/2019   F        1987        1X1H   0   0   0   0   0  ...   \n",
       "1  CP5S02H  1/6/2019   F        1981        UAOD   0   0   0   0   0  ...   \n",
       "\n",
       "   P15  P16  P17  P18  P19  P20  P21  reg_age      VIP  total  \n",
       "0    1    0    0    0    0    0    0       33  Not VIP      2  \n",
       "1    1    0    0    0    0    0    0       39  Not VIP      2  \n",
       "\n",
       "[2 rows x 29 columns]"
      ]
     },
     "execution_count": 64,
     "metadata": {},
     "output_type": "execute_result"
    }
   ],
   "source": [
    "df.head(2)"
   ]
  },
  {
   "cell_type": "code",
   "execution_count": 66,
   "id": "76d42948",
   "metadata": {},
   "outputs": [
    {
     "data": {
      "text/plain": [
       "(1983, 'M')"
      ]
     },
     "execution_count": 66,
     "metadata": {},
     "output_type": "execute_result"
    }
   ],
   "source": [
    "df.groupby(['birth_year', 'sex'])['total'].sum().idxmax()"
   ]
  },
  {
   "cell_type": "markdown",
   "id": "8607ae2e",
   "metadata": {},
   "source": [
    "# Q3."
   ]
  },
  {
   "cell_type": "code",
   "execution_count": 72,
   "id": "05185625",
   "metadata": {},
   "outputs": [
    {
     "data": {
      "text/plain": [
       "0.01"
      ]
     },
     "execution_count": 72,
     "metadata": {},
     "output_type": "execute_result"
    }
   ],
   "source": [
    "df[df['birth_year'] <= 1990][['P1', 'P21']].corr().round(2).iloc[0, 1]"
   ]
  },
  {
   "cell_type": "markdown",
   "id": "efbbf5c1",
   "metadata": {},
   "source": [
    "# Q4."
   ]
  },
  {
   "cell_type": "code",
   "execution_count": 82,
   "id": "91738b5d",
   "metadata": {},
   "outputs": [],
   "source": [
    "tmp = df[(df['birth_year'] <= 1980) & (df['sex'] == 'F')]"
   ]
  },
  {
   "cell_type": "code",
   "execution_count": 86,
   "id": "6c95eb4c",
   "metadata": {},
   "outputs": [
    {
     "data": {
      "text/html": [
       "<div>\n",
       "<style scoped>\n",
       "    .dataframe tbody tr th:only-of-type {\n",
       "        vertical-align: middle;\n",
       "    }\n",
       "\n",
       "    .dataframe tbody tr th {\n",
       "        vertical-align: top;\n",
       "    }\n",
       "\n",
       "    .dataframe thead th {\n",
       "        text-align: right;\n",
       "    }\n",
       "</style>\n",
       "<table border=\"1\" class=\"dataframe\">\n",
       "  <thead>\n",
       "    <tr style=\"text-align: right;\">\n",
       "      <th>VIP</th>\n",
       "      <th>Not VIP</th>\n",
       "      <th>VIP</th>\n",
       "    </tr>\n",
       "    <tr>\n",
       "      <th>branch_code</th>\n",
       "      <th></th>\n",
       "      <th></th>\n",
       "    </tr>\n",
       "  </thead>\n",
       "  <tbody>\n",
       "    <tr>\n",
       "      <td>748L</td>\n",
       "      <td>1045</td>\n",
       "      <td>50</td>\n",
       "    </tr>\n",
       "    <tr>\n",
       "      <td>94KC</td>\n",
       "      <td>529</td>\n",
       "      <td>35</td>\n",
       "    </tr>\n",
       "    <tr>\n",
       "      <td>E5SW</td>\n",
       "      <td>677</td>\n",
       "      <td>35</td>\n",
       "    </tr>\n",
       "    <tr>\n",
       "      <td>30H5</td>\n",
       "      <td>515</td>\n",
       "      <td>19</td>\n",
       "    </tr>\n",
       "    <tr>\n",
       "      <td>UAOD</td>\n",
       "      <td>547</td>\n",
       "      <td>14</td>\n",
       "    </tr>\n",
       "    <tr>\n",
       "      <td>XX25</td>\n",
       "      <td>472</td>\n",
       "      <td>13</td>\n",
       "    </tr>\n",
       "    <tr>\n",
       "      <td>ZFER</td>\n",
       "      <td>145</td>\n",
       "      <td>13</td>\n",
       "    </tr>\n",
       "    <tr>\n",
       "      <td>O67J</td>\n",
       "      <td>106</td>\n",
       "      <td>6</td>\n",
       "    </tr>\n",
       "    <tr>\n",
       "      <td>1X1H</td>\n",
       "      <td>145</td>\n",
       "      <td>5</td>\n",
       "    </tr>\n",
       "    <tr>\n",
       "      <td>49BM</td>\n",
       "      <td>104</td>\n",
       "      <td>5</td>\n",
       "    </tr>\n",
       "    <tr>\n",
       "      <td>9F9T</td>\n",
       "      <td>44</td>\n",
       "      <td>1</td>\n",
       "    </tr>\n",
       "    <tr>\n",
       "      <td>X23B</td>\n",
       "      <td>15</td>\n",
       "      <td>1</td>\n",
       "    </tr>\n",
       "    <tr>\n",
       "      <td>BOAS</td>\n",
       "      <td>42</td>\n",
       "      <td>0</td>\n",
       "    </tr>\n",
       "  </tbody>\n",
       "</table>\n",
       "</div>"
      ],
      "text/plain": [
       "VIP          Not VIP  VIP\n",
       "branch_code              \n",
       "748L            1045   50\n",
       "94KC             529   35\n",
       "E5SW             677   35\n",
       "30H5             515   19\n",
       "UAOD             547   14\n",
       "XX25             472   13\n",
       "ZFER             145   13\n",
       "O67J             106    6\n",
       "1X1H             145    5\n",
       "49BM             104    5\n",
       "9F9T              44    1\n",
       "X23B              15    1\n",
       "BOAS              42    0"
      ]
     },
     "execution_count": 86,
     "metadata": {},
     "output_type": "execute_result"
    }
   ],
   "source": [
    "pd.crosstab(index=tmp['branch_code'], columns=tmp['VIP']).sort_values(by='VIP', ascending=False)\n",
    "# tmp.groupby(['branch_code', 'VIP']).size().unstack('VIP').sort_values(by='VIP', ascending=False)"
   ]
  },
  {
   "cell_type": "markdown",
   "id": "e828d484",
   "metadata": {},
   "source": [
    "# Q5"
   ]
  },
  {
   "cell_type": "code",
   "execution_count": 98,
   "id": "9331e8ec",
   "metadata": {},
   "outputs": [],
   "source": [
    "# df[pd.to_datetime(df['join_date'], format='%d/%m/%Y').dt.month <= 6]"
   ]
  },
  {
   "cell_type": "code",
   "execution_count": 99,
   "id": "99bebfcc",
   "metadata": {
    "scrolled": true
   },
   "outputs": [
    {
     "data": {
      "text/plain": [
       "sex\n",
       "F    40.314175\n",
       "M    39.233391\n",
       "Name: reg_age, dtype: float64"
      ]
     },
     "execution_count": 99,
     "metadata": {},
     "output_type": "execute_result"
    }
   ],
   "source": [
    "df[df['join_date'].str.split('/').str[1].astype(int) <= 6].groupby('sex')['reg_age'].mean()"
   ]
  },
  {
   "cell_type": "code",
   "execution_count": 100,
   "id": "2592f8b0",
   "metadata": {},
   "outputs": [
    {
     "data": {
      "text/plain": [
       "1.1"
      ]
     },
     "execution_count": 100,
     "metadata": {},
     "output_type": "execute_result"
    }
   ],
   "source": [
    "round(abs(40.314175 - 39.233391), 1)"
   ]
  },
  {
   "cell_type": "code",
   "execution_count": null,
   "id": "0192b3d2",
   "metadata": {},
   "outputs": [],
   "source": []
  },
  {
   "cell_type": "code",
   "execution_count": null,
   "id": "5326665a",
   "metadata": {},
   "outputs": [],
   "source": []
  },
  {
   "cell_type": "code",
   "execution_count": null,
   "id": "9fcc65f3",
   "metadata": {},
   "outputs": [],
   "source": []
  },
  {
   "cell_type": "code",
   "execution_count": null,
   "id": "74c8e24f",
   "metadata": {},
   "outputs": [],
   "source": []
  }
 ],
 "metadata": {
  "kernelspec": {
   "display_name": "Python 3 (ipykernel)",
   "language": "python",
   "name": "python3"
  },
  "language_info": {
   "codemirror_mode": {
    "name": "ipython",
    "version": 3
   },
   "file_extension": ".py",
   "mimetype": "text/x-python",
   "name": "python",
   "nbconvert_exporter": "python",
   "pygments_lexer": "ipython3",
   "version": "3.7.4"
  }
 },
 "nbformat": 4,
 "nbformat_minor": 5
}
